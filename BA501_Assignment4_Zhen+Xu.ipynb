{
 "cells": [
  {
   "cell_type": "code",
   "execution_count": 1,
   "metadata": {
    "collapsed": true
   },
   "outputs": [],
   "source": [
    "import numpy as np\n",
    "import pandas as pd\n",
    "import matplotlib.pyplot as plt"
   ]
  },
  {
   "cell_type": "code",
   "execution_count": null,
   "metadata": {
    "collapsed": true
   },
   "outputs": [],
   "source": [
    "#handle duplicate values ## use numpy array\n",
    "my_array = np.array([])\n",
    "np.unique(my_array)"
   ]
  },
  {
   "cell_type": "code",
   "execution_count": null,
   "metadata": {
    "collapsed": true
   },
   "outputs": [],
   "source": [
    "#Assumption: If one person sends multiple requests to the same person, we count it as one request. \n",
    "#facebook interview question\n",
    "NofA = np.unique(request_accepted[\"requestor_id\", \"acceptor_id\"])\n",
    "NofR = np.unique(friend_request[\"request_id\",\"sent_to_id\"])\n",
    "a = NofA.length\n",
    "r = NofR.length\n",
    "If a == \"0\":\n",
    "    print 0\n",
    "else:\n",
    "    print (a/r)\n",
    "#Sql version\n",
    "SELECT(\n",
    "ifnull(\n",
    "SELECT COUNT(DISTINCT requestor_id, acceptor_id) FROM (request_accepted) AS NofA/\n",
    "SELECT COUNT(DISTINCT request_id, sent_to_id) FROM (friend_request) AS NofR,0)) AS accepted_rate"
   ]
  },
  {
   "cell_type": "code",
   "execution_count": null,
   "metadata": {
    "collapsed": true
   },
   "outputs": [],
   "source": [
    "# Company\n",
    "# Company: Coursera\n",
    "# Product: MOOC\n",
    "# Customer: College student, people who want to make progress in career path\n",
    "# Business model: TWo type of services: MOOC courses from top universities; Coursera Business\n",
    "# For the first type, main revenue of Coursera is from course certification\n",
    "# For the second type, Coursera provides platform for employee training and earn service fee from companies. \n",
    "# Why this company: I'm interested in EdTech, especially for online education, which may \n",
    "# I acknowledge that online education is very popular, with many people working on the online learning community design and new online ed technology. \n",
    "# However, traditional evaluation and measurement doesn't work well for online ed. We hope to know exactly what attributes lead to the drop or the completion of the course.\n",
    "# (optional) How to increase revenue: 1) Deepen cooperation with companies to deliver more Coursera Business services.\n",
    "# 2) Cooperate with more universities in different countries. "
   ]
  },
  {
   "cell_type": "code",
   "execution_count": 7,
   "metadata": {},
   "outputs": [
    {
     "data": {
      "image/png": "[encoded data removed]",
      "text/plain": [
       "<matplotlib.figure.Figure at 0xd090f28>"
      ]
     },
     "metadata": {},
     "output_type": "display_data"
    }
   ],
   "source": [
    "#Print cumulative time series\n",
    "file_location = \"C:\\Users\\janex\\Desktop\\Way to BA\\Week4\\python_notebook-master\"\n",
    "file_name = \"BA501_python_data.csv\"\n",
    "my_data = pd.read_csv(\"C:\\Users\\janex\\Desktop\\Way to BA\\Week4\\python_notebook-master\\BA501_python_data.csv\")\n",
    "np.unique(my_data[\"experiment_id\"])\n",
    "red_button = np.unique(my_data[\"experiment_id\"])[0]\n",
    "blue_button = np.unique(my_data[\"experiment_id\"])[1]\n",
    "my_data.date = pd.to_datetime(my_data.date, format='%Y%m%d')\n",
    "d1 = my_data[['date','spend_usd','country','vertical']][my_data.experiment_id == red_button]\n",
    "d2 = d1[['date','spend_usd','country','vertical']][d1.vertical == 'ANDROID_APPS']\n",
    "red_button_data = d2[['date','spend_usd']][d2.country == 'US']\n",
    "d3 = my_data[['date','spend_usd','country','vertical']][my_data.experiment_id == blue_button]\n",
    "d4 = d3[['date','spend_usd','country','vertical']][d3.vertical == 'ANDROID_APPS']\n",
    "blue_button_data = d4[['date','spend_usd']][d4.country == 'US']\n",
    "red_s = red_button_data.groupby('date')[\"spend_usd\"].sum().reset_index(name = 'redsum')\n",
    "blue_s = blue_button_data.groupby('date')[\"spend_usd\"].sum().reset_index(name = 'bluesum')\n",
    "red_cs = red_s.redsum.cumsum()\n",
    "blue_cs = blue_s.bluesum.cumsum()\n",
    "fig, ax = plt.subplots()\n",
    "ax.plot(red_cs, color=\"red\", label=\"red\")\n",
    "ax.plot(blue_cs, color=\"blue\", label = \"blue\")\n",
    "ax.set_ylim(0,100000)\n",
    "ax.set_title(\"Red vs. Blue\")\n",
    "ax.set_ylabel(\"Total spend\")\n",
    "ax.grid(True, which=\"both\")\n",
    "plt.show()"
   ]
  },
  {
   "cell_type": "code",
   "execution_count": 3,
   "metadata": {},
   "outputs": [
    {
     "name": "stdout",
     "output_type": "stream",
     "text": [
      "Uplift percentage: -4.35%\n"
     ]
    }
   ],
   "source": [
    "#print cumulative uplift%\n",
    "file_location = \"C:\\Users\\janex\\Desktop\\Way to BA\\Week4\\python_notebook-master\"\n",
    "file_name = \"BA501_python_data.csv\"\n",
    "my_data = pd.read_csv(\"C:\\Users\\janex\\Desktop\\Way to BA\\Week4\\python_notebook-master\\BA501_python_data.csv\")\n",
    "np.unique(my_data[\"experiment_id\"])\n",
    "red_button = np.unique(my_data[\"experiment_id\"])[0]\n",
    "blue_button = np.unique(my_data[\"experiment_id\"])[1]\n",
    "my_data.date = pd.to_datetime(my_data.date, format='%Y%m%d')\n",
    "d1 = my_data[['date','spend_usd','country','vertical']][my_data.experiment_id == red_button]\n",
    "d2 = d1[['date','spend_usd','country','vertical']][d1.vertical == 'ANDROID_APPS']\n",
    "red_button_data = d2[['date','spend_usd']][d2.country == 'US']\n",
    "d3 = my_data[['date','spend_usd','country','vertical']][my_data.experiment_id == blue_button]\n",
    "d4 = d3[['date','spend_usd','country','vertical']][d3.vertical == 'ANDROID_APPS']\n",
    "blue_button_data = d4[['date','spend_usd']][d4.country == 'US']\n",
    "red_s = red_button_data.groupby('date')[\"spend_usd\"].sum().reset_index(name = 'redsum')\n",
    "blue_s = blue_button_data.groupby('date')[\"spend_usd\"].sum().reset_index(name = 'bluesum')\n",
    "red_cs = red_s.redsum.cumsum()\n",
    "blue_cs = blue_s.bluesum.cumsum()\n",
    "red = red_cs.max()\n",
    "blue = blue_cs.max()\n",
    "uplift = (red-blue)/blue\n",
    "print(\"Uplift percentage: \"+\"{:.2%}\".format(uplift))"
   ]
  }
 ],
 "metadata": {
  "kernelspec": {
   "display_name": "Python 2",
   "language": "python",
   "name": "python2"
  },
  "language_info": {
   "codemirror_mode": {
    "name": "ipython",
    "version": 2
   },
   "file_extension": ".py",
   "mimetype": "text/x-python",
   "name": "python",
   "nbconvert_exporter": "python",
   "pygments_lexer": "ipython2",
   "version": "2.7.13"
  }
 },
 "nbformat": 4,
 "nbformat_minor": 2
}
