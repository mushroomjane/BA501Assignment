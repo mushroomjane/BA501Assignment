{
 "cells": [
  {
   "cell_type": "code",
   "execution_count": 56,
   "metadata": {
    "collapsed": true,
    "scrolled": true
   },
   "outputs": [],
   "source": [
    "import numpy as np\n",
    "import pandas as pd\n",
    "import matplotlib.pyplot as plt"
   ]
  },
  {
   "cell_type": "code",
   "execution_count": 7,
   "metadata": {
    "scrolled": false
   },
   "outputs": [
    {
     "data": {
      "text/plain": [
       "array([1, 2, 3, 4])"
      ]
     },
     "execution_count": 7,
     "metadata": {},
     "output_type": "execute_result"
    }
   ],
   "source": [
    "#handle duplicate values ## use numpy array\n",
    "my_array = np.array([])\n",
    "np.unique(my_array)"
   ]
  },
  {
   "cell_type": "code",
   "execution_count": 8,
   "metadata": {
    "collapsed": true
   },
   "outputs": [],
   "source": [
    "#facebook interview question\n",
    "NofA = np.unique(request_accepted[\"requestor_id\", \"acceptor_id\"])\n",
    "NofR = np.unique(friend_request[\"request_id\",\"sent_to_id\"])\n",
    "a = NofA.length\n",
    "r = NofR.length\n",
    "If a == \"0\":\n",
    "    print 0\n",
    "else:\n",
    "    print (a/r)\n",
    "#Sql version\n",
    "SELECT(\n",
    "ifnull(\n",
    "SELECT COUNT(DISTINCT requestor_id, acceptor_id) FROM (request_accepted) AS NofA/\n",
    "SELECT COUNT(DISTINCT request_id, sent_to_id) FROM (friend_request) AS NofR,0)) AS accepted_rate"
   ]
  },
  {
   "cell_type": "code",
   "execution_count": 109,
   "metadata": {
    "scrolled": true
   },
   "outputs": [
    {
     "data": {
      "text/plain": [
       "0    17746.477584\n",
       "1    32568.287584\n",
       "2    45889.067584\n",
       "3    58814.916693\n",
       "4    71973.334860\n",
       "Name: redsum, dtype: float64"
      ]
     },
     "execution_count": 109,
     "metadata": {},
     "output_type": "execute_result"
    }
   ],
   "source": [
    "#Print cumulative time series\n",
    "file_location = \"C:\\Users\\janex\\Desktop\\Way to BA\\Week4\\python_notebook-master\"\n",
    "file_name = \"BA501_python_data.csv\"\n",
    "my_data = pd.read_csv(\"C:\\Users\\janex\\Desktop\\Way to BA\\Week4\\python_notebook-master\\BA501_python_data.csv\")\n",
    "np.unique(my_data[\"experiment_id\"])\n",
    "red_button = np.unique(my_data[\"experiment_id\"])[0]\n",
    "blue_button = np.unique(my_data[\"experiment_id\"])[1]\n",
    "my_data.date = pd.to_datetime(my_data.date, format='%Y%m%d')\n",
    "d1 = my_data[['date','spend_usd','country','vertical']][my_data.experiment_id == red_button]\n",
    "d2 = d1[['date','spend_usd','country','vertical']][d1.vertical == 'ANDROID_APPS']\n",
    "red_button_data = d2[['date','spend_usd']][d2.country == 'US']\n",
    "d3 = my_data[['date','spend_usd','country','vertical']][my_data.experiment_id == blue_button]\n",
    "d4 = d3[['date','spend_usd','country','vertical']][d3.vertical == 'ANDROID_APPS']\n",
    "blue_button_data = d4[['date','spend_usd']][d4.country == 'US']\n",
    "red_s = red_button_data.groupby('date')[\"spend_usd\"].sum().reset_index(name = 'redsum')\n",
    "blue_s = blue_button_data.groupby('date')[\"spend_usd\"].sum().reset_index(name = 'bluesum')\n",
    "red_cs = red_s.redsum.cumsum()\n",
    "blue_cs = blue_s.bluesum.cumsum()\n",
    "fig, ax = plt.subplots()\n",
    "ax.plot(red_cs, color=\"red\", label=\"red\")\n",
    "ax.plot(blue_cs, color=\"blue\", label = \"blue\")\n",
    "ax.set_ylim(0,100000)\n",
    "ax.set_title(\"Red vs. Blue\")\n",
    "ax.set_ylabel(\"Total spend\")\n",
    "ax.grid(True, which=\"both\")"
   ]
  },
  {
   "cell_type": "code",
   "execution_count": 108,
   "metadata": {},
   "outputs": [
    {
     "name": "stdout",
     "output_type": "stream",
     "text": [
      "Uplift percentage: -4.35%\n"
     ]
    }
   ],
   "source": [
    "#print cumulative uplift%\n",
    "file_location = \"C:\\Users\\janex\\Desktop\\Way to BA\\Week4\\python_notebook-master\"\n",
    "file_name = \"BA501_python_data.csv\"\n",
    "my_data = pd.read_csv(\"C:\\Users\\janex\\Desktop\\Way to BA\\Week4\\python_notebook-master\\BA501_python_data.csv\")\n",
    "np.unique(my_data[\"experiment_id\"])\n",
    "red_button = np.unique(my_data[\"experiment_id\"])[0]\n",
    "blue_button = np.unique(my_data[\"experiment_id\"])[1]\n",
    "my_data.date = pd.to_datetime(my_data.date, format='%Y%m%d')\n",
    "d1 = my_data[['date','spend_usd','country','vertical']][my_data.experiment_id == red_button]\n",
    "d2 = d1[['date','spend_usd','country','vertical']][d1.vertical == 'ANDROID_APPS']\n",
    "red_button_data = d2[['date','spend_usd']][d2.country == 'US']\n",
    "d3 = my_data[['date','spend_usd','country','vertical']][my_data.experiment_id == blue_button]\n",
    "d4 = d3[['date','spend_usd','country','vertical']][d3.vertical == 'ANDROID_APPS']\n",
    "blue_button_data = d4[['date','spend_usd']][d4.country == 'US']\n",
    "red_s = red_button_data.groupby('date')[\"spend_usd\"].sum().reset_index(name = 'redsum')\n",
    "blue_s = blue_button_data.groupby('date')[\"spend_usd\"].sum().reset_index(name = 'bluesum')\n",
    "red_cs = red_s.redsum.cumsum()\n",
    "blue_cs = blue_s.bluesum.cumsum()\n",
    "red = red_cs.max()\n",
    "blue = blue_cs.max()\n",
    "uplift = (red-blue)/blue\n",
    "print(\"Uplift percentage: \"+\"{:.2%}\".format(uplift))"
   ]
  },
  {
   "cell_type": "code",
   "execution_count": null,
   "metadata": {
    "collapsed": true
   },
   "outputs": [],
   "source": []
  },
  {
   "cell_type": "code",
   "execution_count": null,
   "metadata": {
    "collapsed": true
   },
   "outputs": [],
   "source": []
  }
 ],
 "metadata": {
  "kernelspec": {
   "display_name": "Python 2",
   "language": "python",
   "name": "python2"
  },
  "language_info": {
   "codemirror_mode": {
    "name": "ipython",
    "version": 2
   },
   "file_extension": ".py",
   "mimetype": "text/x-python",
   "name": "python",
   "nbconvert_exporter": "python",
   "pygments_lexer": "ipython2",
   "version": "2.7.13"
  }
 },
 "nbformat": 4,
 "nbformat_minor": 2
}
